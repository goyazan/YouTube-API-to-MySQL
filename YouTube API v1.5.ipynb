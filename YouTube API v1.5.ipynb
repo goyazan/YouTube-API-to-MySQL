{
 "cells": [
  {
   "cell_type": "markdown",
   "id": "f963e2c7",
   "metadata": {},
   "source": [
    "## 1. FIRST REQUEST TO PULL THE LIST OF YOUTUBE VIDEOS"
   ]
  },
  {
   "cell_type": "markdown",
   "id": "ae562e81",
   "metadata": {},
   "source": [
    "### 1.1 IMPORT MODULES"
   ]
  },
  {
   "cell_type": "code",
   "execution_count": 88,
   "id": "0f8cd485",
   "metadata": {},
   "outputs": [],
   "source": [
    "import os\n",
    "import requests as r\n",
    "import json\n",
    "from dotenv import load_dotenv\n",
    "import pandas as pd\n",
    "import pymysql as sql\n",
    "from sqlalchemy import create_engine"
   ]
  },
  {
   "cell_type": "code",
   "execution_count": 64,
   "id": "4728df74",
   "metadata": {
    "scrolled": true
   },
   "outputs": [
    {
     "data": {
      "text/plain": [
       "True"
      ]
     },
     "execution_count": 64,
     "metadata": {},
     "output_type": "execute_result"
    }
   ],
   "source": [
    "load_dotenv()"
   ]
  },
  {
   "cell_type": "markdown",
   "id": "151abde9",
   "metadata": {},
   "source": [
    "### 1.2 API KEYS, QUERY PARAMETERS & THE ENDPOINT URL"
   ]
  },
  {
   "cell_type": "code",
   "execution_count": 65,
   "id": "6d6b84b3",
   "metadata": {},
   "outputs": [],
   "source": [
    "api_key = os.getenv('api_key')\n",
    "channel_id = os.getenv('channel_id')"
   ]
  },
  {
   "cell_type": "code",
   "execution_count": 66,
   "id": "20ddd725",
   "metadata": {},
   "outputs": [],
   "source": [
    "base_url = 'https://www.googleapis.com/youtube/v3'\n",
    "\n",
    "endpoint_1 = '/search'\n",
    "full_url_1 = base_url + endpoint_1"
   ]
  },
  {
   "cell_type": "code",
   "execution_count": 67,
   "id": "421cf191",
   "metadata": {},
   "outputs": [],
   "source": [
    "# parameters for the first request\n",
    "page_token = ''\n",
    "part_1 = 'snippet,id'\n",
    "order = 'date'\n",
    "maxResults = '50'\n",
    "q = 'messi'\n",
    "type = 'video'\n",
    "videoDefinition = 'high'\n",
    "\n",
    "params_1 = {'key' : api_key, \n",
    "          'channelid' : channel_id, \n",
    "          'part' : part_1, \n",
    "          'order' : order, \n",
    "          'maxResults' : maxResults, \n",
    "          'page_token' : page_token,\n",
    "           'q' : q,\n",
    "           'type' : type,\n",
    "           'videoDefinition' : videoDefinition}"
   ]
  },
  {
   "cell_type": "markdown",
   "id": "e71dec82",
   "metadata": {},
   "source": [
    "### 1.3 SEND THE REQUEST AND FLATTEN THE JSON RESPONSE"
   ]
  },
  {
   "cell_type": "code",
   "execution_count": 68,
   "id": "ba69709c",
   "metadata": {
    "scrolled": true
   },
   "outputs": [
    {
     "data": {
      "text/html": [
       "<div>\n",
       "<style scoped>\n",
       "    .dataframe tbody tr th:only-of-type {\n",
       "        vertical-align: middle;\n",
       "    }\n",
       "\n",
       "    .dataframe tbody tr th {\n",
       "        vertical-align: top;\n",
       "    }\n",
       "\n",
       "    .dataframe thead th {\n",
       "        text-align: right;\n",
       "    }\n",
       "</style>\n",
       "<table border=\"1\" class=\"dataframe\">\n",
       "  <thead>\n",
       "    <tr style=\"text-align: right;\">\n",
       "      <th></th>\n",
       "      <th>kind</th>\n",
       "      <th>etag</th>\n",
       "      <th>id.kind</th>\n",
       "      <th>id.videoId</th>\n",
       "      <th>snippet.publishedAt</th>\n",
       "      <th>snippet.channelId</th>\n",
       "      <th>snippet.title</th>\n",
       "      <th>snippet.description</th>\n",
       "      <th>snippet.thumbnails.default.url</th>\n",
       "      <th>snippet.thumbnails.default.width</th>\n",
       "      <th>...</th>\n",
       "      <th>snippet.thumbnails.high.url</th>\n",
       "      <th>snippet.thumbnails.high.width</th>\n",
       "      <th>snippet.thumbnails.high.height</th>\n",
       "      <th>snippet.channelTitle</th>\n",
       "      <th>snippet.liveBroadcastContent</th>\n",
       "      <th>snippet.publishTime</th>\n",
       "      <th>metakind</th>\n",
       "      <th>metaetag</th>\n",
       "      <th>metanextPageToken</th>\n",
       "      <th>metaregionCode</th>\n",
       "    </tr>\n",
       "  </thead>\n",
       "  <tbody>\n",
       "    <tr>\n",
       "      <th>0</th>\n",
       "      <td>youtube#searchResult</td>\n",
       "      <td>AAzyJ6lkkKvYTy8qhCqHEY5kUBM</td>\n",
       "      <td>youtube#video</td>\n",
       "      <td>-lDpm6VrGxA</td>\n",
       "      <td>2022-06-24T11:30:00Z</td>\n",
       "      <td>UCrY1RI5kdTwwpKAk5qozjJQ</td>\n",
       "      <td>Saving Messi From PSG😎 Messi PSG യിൽ പോയിരുന്ന...</td>\n",
       "      <td>amd #messi #fifa22 Haaloo Noobs   Channel Supp...</td>\n",
       "      <td>https://i.ytimg.com/vi/-lDpm6VrGxA/default.jpg</td>\n",
       "      <td>120</td>\n",
       "      <td>...</td>\n",
       "      <td>https://i.ytimg.com/vi/-lDpm6VrGxA/hqdefault.jpg</td>\n",
       "      <td>480</td>\n",
       "      <td>360</td>\n",
       "      <td>AMD isPlaying</td>\n",
       "      <td>none</td>\n",
       "      <td>2022-06-24T11:30:00Z</td>\n",
       "      <td>youtube#searchListResponse</td>\n",
       "      <td>yk5e1wm3s7_hbqMkVBiCQyiIP9E</td>\n",
       "      <td>CDIQAA</td>\n",
       "      <td>AZ</td>\n",
       "    </tr>\n",
       "  </tbody>\n",
       "</table>\n",
       "<p>1 rows × 24 columns</p>\n",
       "</div>"
      ],
      "text/plain": [
       "                   kind                         etag        id.kind  \\\n",
       "0  youtube#searchResult  AAzyJ6lkkKvYTy8qhCqHEY5kUBM  youtube#video   \n",
       "\n",
       "    id.videoId   snippet.publishedAt         snippet.channelId  \\\n",
       "0  -lDpm6VrGxA  2022-06-24T11:30:00Z  UCrY1RI5kdTwwpKAk5qozjJQ   \n",
       "\n",
       "                                       snippet.title  \\\n",
       "0  Saving Messi From PSG😎 Messi PSG യിൽ പോയിരുന്ന...   \n",
       "\n",
       "                                 snippet.description  \\\n",
       "0  amd #messi #fifa22 Haaloo Noobs   Channel Supp...   \n",
       "\n",
       "                   snippet.thumbnails.default.url  \\\n",
       "0  https://i.ytimg.com/vi/-lDpm6VrGxA/default.jpg   \n",
       "\n",
       "   snippet.thumbnails.default.width  ...  \\\n",
       "0                               120  ...   \n",
       "\n",
       "                        snippet.thumbnails.high.url  \\\n",
       "0  https://i.ytimg.com/vi/-lDpm6VrGxA/hqdefault.jpg   \n",
       "\n",
       "  snippet.thumbnails.high.width  snippet.thumbnails.high.height  \\\n",
       "0                           480                             360   \n",
       "\n",
       "   snippet.channelTitle snippet.liveBroadcastContent   snippet.publishTime  \\\n",
       "0         AMD isPlaying                         none  2022-06-24T11:30:00Z   \n",
       "\n",
       "                     metakind                     metaetag metanextPageToken  \\\n",
       "0  youtube#searchListResponse  yk5e1wm3s7_hbqMkVBiCQyiIP9E            CDIQAA   \n",
       "\n",
       "  metaregionCode  \n",
       "0             AZ  \n",
       "\n",
       "[1 rows x 24 columns]"
      ]
     },
     "execution_count": 68,
     "metadata": {},
     "output_type": "execute_result"
    }
   ],
   "source": [
    "response_1 = r.get(full_url_1, params = params_1).json()\n",
    "data_1 = pd.json_normalize(response_1, record_path = ['items'], meta = ['kind', 'etag', 'nextPageToken', 'regionCode'], meta_prefix = 'meta')\n",
    "data_1.head(1)"
   ]
  },
  {
   "cell_type": "markdown",
   "id": "6606cdca",
   "metadata": {},
   "source": [
    "### 1.4 DELETE AND RENAME THE COLUMNS"
   ]
  },
  {
   "cell_type": "code",
   "execution_count": 69,
   "id": "7935bba4",
   "metadata": {},
   "outputs": [],
   "source": [
    "data_1 = data_1[['id.kind', 'id.videoId', 'snippet.publishedAt', 'snippet.channelId', 'snippet.title', 'snippet.description', 'snippet.channelTitle', 'metanextPageToken', 'metaregionCode']]"
   ]
  },
  {
   "cell_type": "code",
   "execution_count": 70,
   "id": "0e525455",
   "metadata": {},
   "outputs": [],
   "source": [
    "data_1 = data_1.rename(\n",
    "        columns = {\n",
    "            'id.kind':'kind', \n",
    "            'id.videoId':'video_id', \n",
    "            'snippet.publishedAt':'published_at', \n",
    "            'snippet.channelId':'channel_id',\n",
    "            'snippet.title':'title',\n",
    "            'snippet.description':'description',\n",
    "            'snippet.channelTitle':'channel_title',\n",
    "            'metanextPageToken':'next_page_token',\n",
    "            'metaregionCode':'region_code'\n",
    "        }\n",
    "    )"
   ]
  },
  {
   "cell_type": "markdown",
   "id": "b91d8c43",
   "metadata": {},
   "source": [
    "## 2. THE SECOND REQUEST TO EXTEND THE FIRST REQUEST WITH METRICS"
   ]
  },
  {
   "cell_type": "markdown",
   "id": "511bb93a",
   "metadata": {},
   "source": [
    "### 2.1 QUERY PARAMETERS & THE ENDPOINT URL"
   ]
  },
  {
   "cell_type": "code",
   "execution_count": 71,
   "id": "504f89f4",
   "metadata": {},
   "outputs": [],
   "source": [
    "endpoint_2 = '/videos'\n",
    "full_url_2 = base_url + endpoint_2"
   ]
  },
  {
   "cell_type": "code",
   "execution_count": 72,
   "id": "7d97f4c0",
   "metadata": {},
   "outputs": [],
   "source": [
    "# parameters for the second request\n",
    "part_2 = 'statistics'\n",
    "video_id = data_1['video_id']\n",
    "\n",
    "params_2 = {'key' : api_key, \n",
    "            'id' : video_id, \n",
    "            'part' : part_2,\n",
    "            'maxResults' : maxResults,\n",
    "            'page_token' : page_token}"
   ]
  },
  {
   "cell_type": "markdown",
   "id": "dd18103d",
   "metadata": {},
   "source": [
    "### 2.2 SEND THE REQUEST AND FLATTEN THE JSON RESPONSE"
   ]
  },
  {
   "cell_type": "code",
   "execution_count": 73,
   "id": "cf95c9e0",
   "metadata": {
    "scrolled": true
   },
   "outputs": [
    {
     "data": {
      "text/html": [
       "<div>\n",
       "<style scoped>\n",
       "    .dataframe tbody tr th:only-of-type {\n",
       "        vertical-align: middle;\n",
       "    }\n",
       "\n",
       "    .dataframe tbody tr th {\n",
       "        vertical-align: top;\n",
       "    }\n",
       "\n",
       "    .dataframe thead th {\n",
       "        text-align: right;\n",
       "    }\n",
       "</style>\n",
       "<table border=\"1\" class=\"dataframe\">\n",
       "  <thead>\n",
       "    <tr style=\"text-align: right;\">\n",
       "      <th></th>\n",
       "      <th>kind</th>\n",
       "      <th>etag</th>\n",
       "      <th>id</th>\n",
       "      <th>statistics.viewCount</th>\n",
       "      <th>statistics.likeCount</th>\n",
       "      <th>statistics.favoriteCount</th>\n",
       "      <th>statistics.commentCount</th>\n",
       "    </tr>\n",
       "  </thead>\n",
       "  <tbody>\n",
       "    <tr>\n",
       "      <th>0</th>\n",
       "      <td>youtube#video</td>\n",
       "      <td>nqOVcdoCKjw-f3Pjghmz4bkyYXU</td>\n",
       "      <td>-lDpm6VrGxA</td>\n",
       "      <td>4527</td>\n",
       "      <td>1755</td>\n",
       "      <td>0</td>\n",
       "      <td>62</td>\n",
       "    </tr>\n",
       "  </tbody>\n",
       "</table>\n",
       "</div>"
      ],
      "text/plain": [
       "            kind                         etag           id  \\\n",
       "0  youtube#video  nqOVcdoCKjw-f3Pjghmz4bkyYXU  -lDpm6VrGxA   \n",
       "\n",
       "  statistics.viewCount statistics.likeCount statistics.favoriteCount  \\\n",
       "0                 4527                 1755                        0   \n",
       "\n",
       "  statistics.commentCount  \n",
       "0                      62  "
      ]
     },
     "execution_count": 73,
     "metadata": {},
     "output_type": "execute_result"
    }
   ],
   "source": [
    "response_2 = r.get(full_url_2, params = params_2).json()\n",
    "data_2 = pd.json_normalize(response_2, record_path = ['items'])\n",
    "data_2.head(1)"
   ]
  },
  {
   "cell_type": "markdown",
   "id": "bb9fd482",
   "metadata": {},
   "source": [
    "### 2.3 DELETE AND RENAME THE COLUMNS"
   ]
  },
  {
   "cell_type": "code",
   "execution_count": 74,
   "id": "6303dbe6",
   "metadata": {},
   "outputs": [],
   "source": [
    "data_2 = data_2[['id', 'statistics.viewCount', 'statistics.likeCount', 'statistics.favoriteCount', 'statistics.commentCount']]"
   ]
  },
  {
   "cell_type": "code",
   "execution_count": 75,
   "id": "2317d3d8",
   "metadata": {
    "scrolled": true
   },
   "outputs": [],
   "source": [
    "data_2 = data_2.rename(\n",
    "        columns = {\n",
    "            'id':'video_id',\n",
    "            'statistics.viewCount':'view_count', \n",
    "            'statistics.likeCount':'like_count', \n",
    "            'statistics.favoriteCount':'favorite_count', \n",
    "            'statistics.commentCount':'comment_count'\n",
    "        }\n",
    "    )"
   ]
  },
  {
   "cell_type": "markdown",
   "id": "0825d17f",
   "metadata": {},
   "source": [
    "## 3. JOIN THE 2 DATASETS USING THE VIDEO_ID COLUMN"
   ]
  },
  {
   "cell_type": "code",
   "execution_count": 76,
   "id": "58dabead",
   "metadata": {
    "scrolled": true
   },
   "outputs": [
    {
     "data": {
      "text/html": [
       "<div>\n",
       "<style scoped>\n",
       "    .dataframe tbody tr th:only-of-type {\n",
       "        vertical-align: middle;\n",
       "    }\n",
       "\n",
       "    .dataframe tbody tr th {\n",
       "        vertical-align: top;\n",
       "    }\n",
       "\n",
       "    .dataframe thead th {\n",
       "        text-align: right;\n",
       "    }\n",
       "</style>\n",
       "<table border=\"1\" class=\"dataframe\">\n",
       "  <thead>\n",
       "    <tr style=\"text-align: right;\">\n",
       "      <th></th>\n",
       "      <th>kind</th>\n",
       "      <th>video_id</th>\n",
       "      <th>published_at</th>\n",
       "      <th>channel_id</th>\n",
       "      <th>title</th>\n",
       "      <th>description</th>\n",
       "      <th>channel_title</th>\n",
       "      <th>next_page_token</th>\n",
       "      <th>region_code</th>\n",
       "      <th>view_count</th>\n",
       "      <th>like_count</th>\n",
       "      <th>favorite_count</th>\n",
       "      <th>comment_count</th>\n",
       "    </tr>\n",
       "  </thead>\n",
       "  <tbody>\n",
       "    <tr>\n",
       "      <th>0</th>\n",
       "      <td>youtube#video</td>\n",
       "      <td>-lDpm6VrGxA</td>\n",
       "      <td>2022-06-24T11:30:00Z</td>\n",
       "      <td>UCrY1RI5kdTwwpKAk5qozjJQ</td>\n",
       "      <td>Saving Messi From PSG😎 Messi PSG യിൽ പോയിരുന്ന...</td>\n",
       "      <td>amd #messi #fifa22 Haaloo Noobs   Channel Supp...</td>\n",
       "      <td>AMD isPlaying</td>\n",
       "      <td>CDIQAA</td>\n",
       "      <td>AZ</td>\n",
       "      <td>4527</td>\n",
       "      <td>1755</td>\n",
       "      <td>0</td>\n",
       "      <td>62</td>\n",
       "    </tr>\n",
       "  </tbody>\n",
       "</table>\n",
       "</div>"
      ],
      "text/plain": [
       "            kind     video_id          published_at                channel_id  \\\n",
       "0  youtube#video  -lDpm6VrGxA  2022-06-24T11:30:00Z  UCrY1RI5kdTwwpKAk5qozjJQ   \n",
       "\n",
       "                                               title  \\\n",
       "0  Saving Messi From PSG😎 Messi PSG യിൽ പോയിരുന്ന...   \n",
       "\n",
       "                                         description  channel_title  \\\n",
       "0  amd #messi #fifa22 Haaloo Noobs   Channel Supp...  AMD isPlaying   \n",
       "\n",
       "  next_page_token region_code view_count like_count favorite_count  \\\n",
       "0          CDIQAA          AZ       4527       1755              0   \n",
       "\n",
       "  comment_count  \n",
       "0            62  "
      ]
     },
     "execution_count": 76,
     "metadata": {},
     "output_type": "execute_result"
    }
   ],
   "source": [
    "data_final = pd.merge(data_1, data_2, how = 'inner', on = 'video_id')\n",
    "data_final.head(1)"
   ]
  },
  {
   "cell_type": "markdown",
   "id": "31b8d42f",
   "metadata": {},
   "source": [
    "## 4. BASIC STATISTICS, DATA CLEANING AND DATA TYPE CHANGE"
   ]
  },
  {
   "cell_type": "code",
   "execution_count": 77,
   "id": "f2fdc8ab",
   "metadata": {
    "scrolled": true
   },
   "outputs": [
    {
     "name": "stdout",
     "output_type": "stream",
     "text": [
      "<class 'pandas.core.frame.DataFrame'>\n",
      "Int64Index: 50 entries, 0 to 49\n",
      "Data columns (total 13 columns):\n",
      " #   Column           Non-Null Count  Dtype \n",
      "---  ------           --------------  ----- \n",
      " 0   kind             50 non-null     object\n",
      " 1   video_id         50 non-null     object\n",
      " 2   published_at     50 non-null     object\n",
      " 3   channel_id       50 non-null     object\n",
      " 4   title            50 non-null     object\n",
      " 5   description      50 non-null     object\n",
      " 6   channel_title    50 non-null     object\n",
      " 7   next_page_token  50 non-null     object\n",
      " 8   region_code      50 non-null     object\n",
      " 9   view_count       50 non-null     object\n",
      " 10  like_count       50 non-null     object\n",
      " 11  favorite_count   50 non-null     object\n",
      " 12  comment_count    49 non-null     object\n",
      "dtypes: object(13)\n",
      "memory usage: 5.5+ KB\n"
     ]
    }
   ],
   "source": [
    "data_final.info()"
   ]
  },
  {
   "cell_type": "code",
   "execution_count": 78,
   "id": "b83ff0e3",
   "metadata": {},
   "outputs": [],
   "source": [
    "# delete unnecessary columns\n",
    "data_final = data_final.dropna(subset = ['like_count'])\n",
    "data_final = data_final.dropna(subset = ['comment_count'])"
   ]
  },
  {
   "cell_type": "code",
   "execution_count": 79,
   "id": "fc74cddc",
   "metadata": {},
   "outputs": [],
   "source": [
    "# improve data types\n",
    "data_final['published_at'] = data_final['published_at'].astype('datetime64[ns]')\n",
    "data_final['view_count'] = data_final['view_count'].astype('int')\n",
    "data_final['favorite_count'] = data_final['favorite_count'].astype('int')\n",
    "data_final['like_count'] = data_final['like_count'].astype('int')\n",
    "data_final['comment_count'] = data_final['comment_count'].astype('int')"
   ]
  },
  {
   "cell_type": "code",
   "execution_count": 80,
   "id": "169785bd",
   "metadata": {
    "scrolled": true
   },
   "outputs": [
    {
     "name": "stdout",
     "output_type": "stream",
     "text": [
      "<class 'pandas.core.frame.DataFrame'>\n",
      "Int64Index: 49 entries, 0 to 49\n",
      "Data columns (total 13 columns):\n",
      " #   Column           Non-Null Count  Dtype         \n",
      "---  ------           --------------  -----         \n",
      " 0   kind             49 non-null     object        \n",
      " 1   video_id         49 non-null     object        \n",
      " 2   published_at     49 non-null     datetime64[ns]\n",
      " 3   channel_id       49 non-null     object        \n",
      " 4   title            49 non-null     object        \n",
      " 5   description      49 non-null     object        \n",
      " 6   channel_title    49 non-null     object        \n",
      " 7   next_page_token  49 non-null     object        \n",
      " 8   region_code      49 non-null     object        \n",
      " 9   view_count       49 non-null     int32         \n",
      " 10  like_count       49 non-null     int32         \n",
      " 11  favorite_count   49 non-null     int32         \n",
      " 12  comment_count    49 non-null     int32         \n",
      "dtypes: datetime64[ns](1), int32(4), object(8)\n",
      "memory usage: 4.6+ KB\n"
     ]
    }
   ],
   "source": [
    "data_final.info()"
   ]
  },
  {
   "cell_type": "code",
   "execution_count": 81,
   "id": "7c1003b9",
   "metadata": {
    "scrolled": false
   },
   "outputs": [
    {
     "data": {
      "text/html": [
       "<div>\n",
       "<style scoped>\n",
       "    .dataframe tbody tr th:only-of-type {\n",
       "        vertical-align: middle;\n",
       "    }\n",
       "\n",
       "    .dataframe tbody tr th {\n",
       "        vertical-align: top;\n",
       "    }\n",
       "\n",
       "    .dataframe thead th {\n",
       "        text-align: right;\n",
       "    }\n",
       "</style>\n",
       "<table border=\"1\" class=\"dataframe\">\n",
       "  <thead>\n",
       "    <tr style=\"text-align: right;\">\n",
       "      <th></th>\n",
       "      <th>view_count</th>\n",
       "      <th>like_count</th>\n",
       "      <th>favorite_count</th>\n",
       "      <th>comment_count</th>\n",
       "    </tr>\n",
       "  </thead>\n",
       "  <tbody>\n",
       "    <tr>\n",
       "      <th>count</th>\n",
       "      <td>49.000000</td>\n",
       "      <td>49.000000</td>\n",
       "      <td>49.0</td>\n",
       "      <td>49.000000</td>\n",
       "    </tr>\n",
       "    <tr>\n",
       "      <th>mean</th>\n",
       "      <td>35420.612245</td>\n",
       "      <td>2196.204082</td>\n",
       "      <td>0.0</td>\n",
       "      <td>140.000000</td>\n",
       "    </tr>\n",
       "    <tr>\n",
       "      <th>std</th>\n",
       "      <td>83797.097694</td>\n",
       "      <td>4406.169174</td>\n",
       "      <td>0.0</td>\n",
       "      <td>292.430334</td>\n",
       "    </tr>\n",
       "    <tr>\n",
       "      <th>min</th>\n",
       "      <td>365.000000</td>\n",
       "      <td>25.000000</td>\n",
       "      <td>0.0</td>\n",
       "      <td>0.000000</td>\n",
       "    </tr>\n",
       "    <tr>\n",
       "      <th>25%</th>\n",
       "      <td>4527.000000</td>\n",
       "      <td>224.000000</td>\n",
       "      <td>0.0</td>\n",
       "      <td>14.000000</td>\n",
       "    </tr>\n",
       "    <tr>\n",
       "      <th>50%</th>\n",
       "      <td>15428.000000</td>\n",
       "      <td>575.000000</td>\n",
       "      <td>0.0</td>\n",
       "      <td>41.000000</td>\n",
       "    </tr>\n",
       "    <tr>\n",
       "      <th>75%</th>\n",
       "      <td>34035.000000</td>\n",
       "      <td>2961.000000</td>\n",
       "      <td>0.0</td>\n",
       "      <td>102.000000</td>\n",
       "    </tr>\n",
       "    <tr>\n",
       "      <th>max</th>\n",
       "      <td>583601.000000</td>\n",
       "      <td>29181.000000</td>\n",
       "      <td>0.0</td>\n",
       "      <td>1858.000000</td>\n",
       "    </tr>\n",
       "  </tbody>\n",
       "</table>\n",
       "</div>"
      ],
      "text/plain": [
       "          view_count    like_count  favorite_count  comment_count\n",
       "count      49.000000     49.000000            49.0      49.000000\n",
       "mean    35420.612245   2196.204082             0.0     140.000000\n",
       "std     83797.097694   4406.169174             0.0     292.430334\n",
       "min       365.000000     25.000000             0.0       0.000000\n",
       "25%      4527.000000    224.000000             0.0      14.000000\n",
       "50%     15428.000000    575.000000             0.0      41.000000\n",
       "75%     34035.000000   2961.000000             0.0     102.000000\n",
       "max    583601.000000  29181.000000             0.0    1858.000000"
      ]
     },
     "execution_count": 81,
     "metadata": {},
     "output_type": "execute_result"
    }
   ],
   "source": [
    "data_final.describe()"
   ]
  },
  {
   "cell_type": "markdown",
   "id": "bc5f7998",
   "metadata": {},
   "source": [
    "## 5. EXPORT DATA INTO A MYSQL DATABASE"
   ]
  },
  {
   "cell_type": "code",
   "execution_count": 82,
   "id": "d3e546f2",
   "metadata": {},
   "outputs": [],
   "source": [
    "host = os.getenv('host')\n",
    "user = os.getenv('user')\n",
    "password = os.getenv('password')\n",
    "database = os.getenv('database')"
   ]
  },
  {
   "cell_type": "code",
   "execution_count": 83,
   "id": "5e11a9b4",
   "metadata": {},
   "outputs": [],
   "source": [
    "conn_properties = {\n",
    "    'host':host,\n",
    "    'user':user,\n",
    "    'password':password,\n",
    "    'database':database,\n",
    "    'local_infile':True,\n",
    "    'charset':'utf8mb4'\n",
    "}"
   ]
  },
  {
   "cell_type": "code",
   "execution_count": 84,
   "id": "2b0e4e86",
   "metadata": {},
   "outputs": [],
   "source": [
    "mysql_conn = sql.connect(**conn_properties)\n",
    "mysql_cursor = mysql_conn.cursor()"
   ]
  },
  {
   "cell_type": "code",
   "execution_count": 85,
   "id": "4fe81c39",
   "metadata": {
    "scrolled": false
   },
   "outputs": [],
   "source": [
    "q1_createtable = 'create table if not exists search (kind varchar(60), video_id varchar(60), published_at datetime, channel_id varchar(60), title varchar(240), description varchar(240), channel_title varchar(60), next_page_token varchar(60), region_code varchar(3), view_count int, like_count int, favorite_count int, comment_count int, primary key(video_id))'\n",
    "q1_exe = mysql_cursor.execute(q1_createtable)"
   ]
  },
  {
   "cell_type": "code",
   "execution_count": 86,
   "id": "a05d3125",
   "metadata": {},
   "outputs": [],
   "source": [
    "# Create SQLAlchemy engine to connect to MySQL Database\n",
    "engine = create_engine(\"mysql+pymysql://{user}:{password}@{host}/{database}\".format(host = host, database = database, user = user, password = password))"
   ]
  },
  {
   "cell_type": "code",
   "execution_count": 87,
   "id": "45363bbd",
   "metadata": {},
   "outputs": [
    {
     "data": {
      "text/plain": [
       "49"
      ]
     },
     "execution_count": 87,
     "metadata": {},
     "output_type": "execute_result"
    }
   ],
   "source": [
    "# Convert dataframe to sql table                                   \n",
    "data_final.to_sql('search', engine, index = False, if_exists = 'replace')"
   ]
  }
 ],
 "metadata": {
  "kernelspec": {
   "display_name": "Python 3 (ipykernel)",
   "language": "python",
   "name": "python3"
  },
  "language_info": {
   "codemirror_mode": {
    "name": "ipython",
    "version": 3
   },
   "file_extension": ".py",
   "mimetype": "text/x-python",
   "name": "python",
   "nbconvert_exporter": "python",
   "pygments_lexer": "ipython3",
   "version": "3.9.12"
  }
 },
 "nbformat": 4,
 "nbformat_minor": 5
}
